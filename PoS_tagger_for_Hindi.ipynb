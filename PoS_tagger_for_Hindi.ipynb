{
  "nbformat": 4,
  "nbformat_minor": 0,
  "metadata": {
    "colab": {
      "private_outputs": true,
      "provenance": []
    },
    "kernelspec": {
      "name": "python3",
      "display_name": "Python 3"
    },
    "language_info": {
      "name": "python"
    }
  },
  "cells": [
    {
      "cell_type": "code",
      "source": [
        "import nltk\n",
        "from nltk.tag import tnt\n",
        "from nltk.corpus import indian\n",
        "nltk.download('indian')\n",
        "nltk.download('punkt')\n",
        "train_data = indian.tagged_sents('hindi.pos')\n",
        "tnt_pos_tagger = tnt.TnT()\n",
        "tnt_pos_tagger.train(train_data)"
      ],
      "metadata": {
        "id": "BB_3dLoMYiX-"
      },
      "execution_count": null,
      "outputs": []
    },
    {
      "cell_type": "code",
      "source": [
        "text = \"अमरीका पर ऐसा क्या है\"\n"
      ],
      "metadata": {
        "id": "ytDhSz8sbETN"
      },
      "execution_count": null,
      "outputs": []
    },
    {
      "cell_type": "code",
      "source": [
        "tagged_words = (tnt_pos_tagger.tag(nltk.word_tokenize(text)))\n",
        "print(tagged_words)\n"
      ],
      "metadata": {
        "id": "Ikz8XRPPaktV"
      },
      "execution_count": null,
      "outputs": []
    },
    {
      "cell_type": "markdown",
      "source": [
        "A Part-of-Speech (POS) tagger is a natural language processing tool that assigns a grammatical category (such as noun, verb, adjective, etc.) to each word in a text. Below is a step-by-step guide with step counts for building a simple POS tagger using Python and the Natural Language Toolkit (NLTK):\n",
        "\\\n",
        "\\\n",
        "\\\n",
        "\\\n",
        "\n",
        "**Step-wise Algorithm for POS Tagging:**\n",
        "\\\n",
        "\\\n",
        "\\\n",
        "\n",
        "**Step 1: Import the Necessary Libraries**\n",
        "\n",
        "**Step 2: Tokenize the Text**\n",
        "Tokenization is the process of splitting the input text into individual words or tokens.\n",
        "\n",
        "\n",
        "\n",
        "**Step 3: Perform POS Tagging**\n",
        "Use the NLTK's `pos_tag` function to assign POS tags to each token.\n",
        "``\n",
        "\n",
        "**Step 4: Output the Result**\n",
        "The `pos_tag` function returns a list of tuples, where each tuple consists of a token and its corresponding POS tag.\n",
        "\n",
        "\n",
        "**Step 5 (Optional): Define a Custom POS Tagger**\n",
        "If you want to use a custom POS tagger with specific rules, you can define your own tagger by creating a set of rules or patterns and then using them to tag the text. This step is optional and can be more complex, as it involves creating your tagger rules.\n",
        "\n"
      ],
      "metadata": {
        "id": "MWjU38oS603p"
      }
    }
  ]
}