{
  "nbformat": 4,
  "nbformat_minor": 0,
  "metadata": {
    "colab": {
      "provenance": []
    },
    "kernelspec": {
      "name": "python3",
      "display_name": "Python 3"
    },
    "language_info": {
      "name": "python"
    }
  },
  "cells": [
    {
      "cell_type": "code",
      "execution_count": null,
      "metadata": {
        "colab": {
          "base_uri": "https://localhost:8080/"
        },
        "id": "RkWt5LYyZ1VQ",
        "outputId": "f695aef4-4416-4126-bc7b-8324c8305d05"
      },
      "outputs": [
        {
          "output_type": "stream",
          "name": "stdout",
          "text": [
            "Requirement already satisfied: nltk in /usr/local/lib/python3.10/dist-packages (3.8.1)\n",
            "Requirement already satisfied: click in /usr/local/lib/python3.10/dist-packages (from nltk) (8.1.7)\n",
            "Requirement already satisfied: joblib in /usr/local/lib/python3.10/dist-packages (from nltk) (1.3.2)\n",
            "Requirement already satisfied: regex>=2021.8.3 in /usr/local/lib/python3.10/dist-packages (from nltk) (2023.6.3)\n",
            "Requirement already satisfied: tqdm in /usr/local/lib/python3.10/dist-packages (from nltk) (4.66.1)\n"
          ]
        }
      ],
      "source": [
        "!pip install nltk\n"
      ]
    },
    {
      "cell_type": "code",
      "source": [
        "import nltk\n",
        "from nltk.sentiment.vader import SentimentIntensityAnalyzer"
      ],
      "metadata": {
        "id": "-QR-_hfWZ6I_"
      },
      "execution_count": null,
      "outputs": []
    },
    {
      "cell_type": "code",
      "source": [
        "!python -m nltk.downloader vader_lexicon"
      ],
      "metadata": {
        "colab": {
          "base_uri": "https://localhost:8080/"
        },
        "id": "hOhTXMmYZ7tl",
        "outputId": "ec34dea4-c14a-47e7-d100-e2b988eb66c9"
      },
      "execution_count": null,
      "outputs": [
        {
          "output_type": "stream",
          "name": "stdout",
          "text": [
            "/usr/lib/python3.10/runpy.py:126: RuntimeWarning: 'nltk.downloader' found in sys.modules after import of package 'nltk', but prior to execution of 'nltk.downloader'; this may result in unpredictable behaviour\n",
            "  warn(RuntimeWarning(msg))\n",
            "[nltk_data] Downloading package vader_lexicon to /root/nltk_data...\n"
          ]
        }
      ]
    },
    {
      "cell_type": "code",
      "source": [
        "analyzer = SentimentIntensityAnalyzer()"
      ],
      "metadata": {
        "id": "P62ceUapZ9K6"
      },
      "execution_count": null,
      "outputs": []
    },
    {
      "cell_type": "code",
      "source": [
        "text = \"I love NTLK! It's a great library for working with text data.\"\n",
        "scores = analyzer.polarity_scores(text)\n",
        "\n",
        "print(scores)"
      ],
      "metadata": {
        "colab": {
          "base_uri": "https://localhost:8080/"
        },
        "id": "8ffr4by8Z-xD",
        "outputId": "9035b6db-0726-4ddc-8b60-86c342e49e88"
      },
      "execution_count": null,
      "outputs": [
        {
          "output_type": "stream",
          "name": "stdout",
          "text": [
            "{'neg': 0.0, 'neu': 0.482, 'pos': 0.518, 'compound': 0.8622}\n"
          ]
        }
      ]
    },
    {
      "cell_type": "code",
      "source": [
        "if scores['compound'] >= 0.5:\n",
        "    print(\"Positive\")\n",
        "elif scores['compound'] > -0.5:\n",
        "    print(\"Neutral\")\n",
        "else:\n",
        "    print(\"Negative\")\n",
        "\n",
        "#This code will print “Positive” for the text we used in the previous example."
      ],
      "metadata": {
        "colab": {
          "base_uri": "https://localhost:8080/"
        },
        "id": "d_aNY6J6aAYG",
        "outputId": "84fac83a-a3c0-4f17-c56b-773a45f2715c"
      },
      "execution_count": null,
      "outputs": [
        {
          "output_type": "stream",
          "name": "stdout",
          "text": [
            "Positive\n"
          ]
        }
      ]
    },
    {
      "cell_type": "code",
      "source": [
        "import nltk\n",
        "from nltk.sentiment.vader import SentimentIntensityAnalyzer\n",
        "\n",
        "# Download the vader_lexicon data\n",
        "nltk.download(\"vader_lexicon\")\n",
        "# Create a sentiment analyzer\n",
        "analyzer = SentimentIntensityAnalyzer()\n",
        "# Analyze some text\n",
        "text = \"I love NTLK! It's a great library for working with text data.\"\n",
        "scores = analyzer.polarity_scores(text)\n",
        "print(scores)\n",
        "\n",
        "# Classify the text as positive, neutral, or negative\n",
        "if scores['compound'] >= 0.5:\n",
        "    print(\"Positive\")\n",
        "elif scores['compound'] > -0.5:\n",
        "    print(\"Neutral\")\n",
        "else:\n",
        "    print(\"Negative\")"
      ],
      "metadata": {
        "colab": {
          "base_uri": "https://localhost:8080/"
        },
        "id": "pooKrtu7aHnD",
        "outputId": "f8be4f5b-5631-46ad-bf25-6c05973fe6c0"
      },
      "execution_count": null,
      "outputs": [
        {
          "output_type": "stream",
          "name": "stdout",
          "text": [
            "{'neg': 0.0, 'neu': 0.482, 'pos': 0.518, 'compound': 0.8622}\n",
            "Positive\n"
          ]
        },
        {
          "output_type": "stream",
          "name": "stderr",
          "text": [
            "[nltk_data] Downloading package vader_lexicon to /root/nltk_data...\n",
            "[nltk_data]   Package vader_lexicon is already up-to-date!\n"
          ]
        }
      ]
    },
    {
      "cell_type": "markdown",
      "source": [
        "1. Install NLTK\n",
        "\n",
        "2. **Import Required Modules**\n",
        "\n",
        "Next, we need to import the modules that we will be using in our script. To do this, add the following lines at the top of your Python script:\n",
        "\n",
        "\n",
        "\n",
        "3. **Download Required Data**\n",
        "\n",
        "Before we can use the SentimentIntensityAnalyzer class, we need to download the vader_lexicon data that it uses.\n",
        "\n",
        "\n",
        "\n",
        "4. **Create a Sentiment Analyzer**\n",
        "\n",
        "To use the SentimentIntensityAnalyzer class, we need to create an instance of it. Add the following line to your script to do this:\n",
        "\n",
        "\n",
        "5. **Analyze Text**\n",
        "\n",
        "Now that we have a sentiment analyzer, we can use it to classify text as positive, negative, or neutral. The SentimentIntensityAnalyzer class has a polarity_scores method that takes a string of text as an input and returns a dictionary containing the calculated positive, negative, and neutral scores."
      ],
      "metadata": {
        "id": "g0hjK-5UcBop"
      }
    }
  ]
}