{
  "nbformat": 4,
  "nbformat_minor": 0,
  "metadata": {
    "colab": {
      "provenance": []
    },
    "kernelspec": {
      "name": "python3",
      "display_name": "Python 3"
    },
    "language_info": {
      "name": "python"
    }
  },
  "cells": [
    {
      "cell_type": "code",
      "execution_count": 3,
      "metadata": {
        "colab": {
          "base_uri": "https://localhost:8080/"
        },
        "id": "PUGbIytAay8u",
        "outputId": "78ab1d51-fa39-49ae-9cc4-4e17e863a2c0"
      },
      "outputs": [
        {
          "output_type": "stream",
          "name": "stderr",
          "text": [
            "[nltk_data] Downloading package stopwords to /root/nltk_data...\n",
            "[nltk_data]   Package stopwords is already up-to-date!\n",
            "[nltk_data] Downloading package punkt to /root/nltk_data...\n",
            "[nltk_data]   Unzipping tokenizers/punkt.zip.\n"
          ]
        },
        {
          "output_type": "stream",
          "name": "stdout",
          "text": [
            " Born in 1953, he would have been seven or eight when New York City’s massive thoroughfare reached the peak of its construction, facilitated by the destruction of many tight-knit Bronx neighbourhoods. He didn’t live in East Tremont or Spuyten Duyvil, which were literally cut through by the highway, but he did live in between Fordham Heights and Kingsbridge Heights, about two miles north of the new road. He wasn’t a politician or an urban planner – he was a child, concerned with the size of his clip-on roller skates, and whether they’d fit over shoes large enough to support his lanky frame. He didn’t know that he was gliding above one of the city’s most contested planning projects, or what kind of impact it would have on his life. Born in 1953, he would have been seven or eight when New York City’s massive thoroughfare reached the peak of its construction, facilitated by the destruction of many tight-knit Bronx neighbourhoods. He didn’t live in East Tremont or Spuyten Duyvil, which were literally cut through by the highway, but he did live in between Fordham Heights and Kingsbridge Heights, about two miles north of the new road. He wasn’t a politician or an urban planner – he was a child, concerned with the size of his clip-on roller skates, and whether they’d fit over shoes large enough to support his lanky frame. He didn’t know that he was gliding above one of the city’s most contested planning projects, or what kind of impact it would have on his life.\n"
          ]
        }
      ],
      "source": [
        "# importing libraries\n",
        "import nltk\n",
        "from nltk.corpus import stopwords\n",
        "from nltk.tokenize import word_tokenize, sent_tokenize\n",
        "nltk.download('stopwords')\n",
        "nltk.download('punkt')\n",
        "\n",
        "# Input text - to summarize\n",
        "text = \"\"\" My father rollerskated on the Cross-Bronx Expressway before it opened to car traffic. Born in 1953, he would have been seven or eight when New York City’s massive thoroughfare reached the peak of its construction, facilitated by the destruction of many tight-knit Bronx neighbourhoods. He didn’t live in East Tremont or Spuyten Duyvil, which were literally cut through by the highway, but he did live in between Fordham Heights and Kingsbridge Heights, about two miles north of the new road. He wasn’t a politician or an urban planner – he was a child, concerned with the size of his clip-on roller skates, and whether they’d fit over shoes large enough to support his lanky frame. He didn’t know that he was gliding above one of the city’s most contested planning projects, or what kind of impact it would have on his life. He was young and with friends, and so they laced up their skates. For ordinary people, this is how history happens. My father rollerskated on the Cross-Bronx Expressway before it opened to car traffic. Born in 1953, he would have been seven or eight when New York City’s massive thoroughfare reached the peak of its construction, facilitated by the destruction of many tight-knit Bronx neighbourhoods. He didn’t live in East Tremont or Spuyten Duyvil, which were literally cut through by the highway, but he did live in between Fordham Heights and Kingsbridge Heights, about two miles north of the new road. He wasn’t a politician or an urban planner – he was a child, concerned with the size of his clip-on roller skates, and whether they’d fit over shoes large enough to support his lanky frame. He didn’t know that he was gliding above one of the city’s most contested planning projects, or what kind of impact it would have on his life. He was young and with friends, and so they laced up their skates. For ordinary people, this is how history happens. \"\"\"\n",
        "\n",
        "# Tokenizing the text\n",
        "stopWords = set(stopwords.words(\"english\"))\n",
        "words = word_tokenize(text)\n",
        "\n",
        "# Creating a frequency table to keep the\n",
        "# score of each word\n",
        "\n",
        "freqTable = dict()\n",
        "for word in words:\n",
        "\tword = word.lower()\n",
        "\tif word in stopWords:\n",
        "\t\tcontinue\n",
        "\tif word in freqTable:\n",
        "\t\tfreqTable[word] += 1\n",
        "\telse:\n",
        "\t\tfreqTable[word] = 1\n",
        "\n",
        "# Creating a dictionary to keep the score\n",
        "# of each sentence\n",
        "sentences = sent_tokenize(text)\n",
        "sentenceValue = dict()\n",
        "\n",
        "for sentence in sentences:\n",
        "\tfor word, freq in freqTable.items():\n",
        "\t\tif word in sentence.lower():\n",
        "\t\t\tif sentence in sentenceValue:\n",
        "\t\t\t\tsentenceValue[sentence] += freq\n",
        "\t\t\telse:\n",
        "\t\t\t\tsentenceValue[sentence] = freq\n",
        "\n",
        "\n",
        "\n",
        "sumValues = 0\n",
        "for sentence in sentenceValue:\n",
        "\tsumValues += sentenceValue[sentence]\n",
        "\n",
        "# Average value of a sentence from the original text\n",
        "\n",
        "average = int(sumValues / len(sentenceValue))\n",
        "\n",
        "# Storing sentences into our summary.\n",
        "summary = ''\n",
        "for sentence in sentences:\n",
        "\tif (sentence in sentenceValue) and (sentenceValue[sentence] > (1.2 * average)):\n",
        "\t\tsummary += \" \" + sentence\n",
        "print(summary)\n"
      ]
    },
    {
      "cell_type": "markdown",
      "source": [
        "Step 1: Importing required libraries\n",
        "\n",
        "\n",
        "There are two NLTK libraries that will be necessary for building an efficient feedback summarizer.\n",
        "\n",
        "\n",
        "Step 2: Removing Stop Words and storing them in a separate array of words.\n",
        "\n",
        "\n",
        "Step 3: Create a frequency table of words\n",
        "A python dictionary that’ll keep a record of how many times each word appears in the feedback after removing the stop words.we can use the dictionary over every sentence to know which sentences have the most relevant content in the overall text.\n",
        "\n",
        "\n",
        "\n",
        "Step 4: Assign score to each sentence depending on the words it contains and the frequency table\n",
        "\n",
        "\n",
        "Step 5: Assign a certain score to compare the sentences within the feedback.\n",
        "A simple approach to compare our scores would be to find the average score of a sentence. The average itself can be a good threshold.\n",
        "\n",
        "\n"
      ],
      "metadata": {
        "id": "871H4ghmbYDR"
      }
    }
  ]
}